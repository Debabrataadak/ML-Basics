{
 "cells": [
  {
   "cell_type": "code",
   "execution_count": 49,
   "metadata": {
    "collapsed": true
   },
   "outputs": [],
   "source": [
    "from numpy import *\n",
    "from keras import *\n",
    "from keras.models import Sequential\n",
    "from keras.layers import Dense\n",
    "import matplotlib.pyplot as plt\n",
    "%matplotlib inline\n",
    "import numpy as np\n",
    "from keras.layers.noise import GaussianDropout\n",
    "import tensorflow as tf\n"
   ]
  },
  {
   "cell_type": "code",
   "execution_count": 2,
   "metadata": {
    "collapsed": true
   },
   "outputs": [],
   "source": [
    "import pickle\n",
    "import gzip"
   ]
  },
  {
   "cell_type": "code",
   "execution_count": 297,
   "metadata": {},
   "outputs": [],
   "source": [
    "f = gzip.open('../codes/2019_MachineLearningForPhysicists/mnist.pkl.gz', 'rb')\n",
    "training_data, validation_data, test_data = pickle.load(f,encoding='bytes')\n",
    "f.close()"
   ]
  },
  {
   "cell_type": "code",
   "execution_count": 25,
   "metadata": {},
   "outputs": [
    {
     "data": {
      "text/plain": [
       "array([0.        , 0.        , 0.        , 0.        , 0.        ,\n",
       "       0.        , 0.        , 0.        , 0.        , 0.        ,\n",
       "       0.        , 0.        , 0.        , 0.        , 0.        ,\n",
       "       0.        , 0.        , 0.        , 0.        , 0.        ,\n",
       "       0.        , 0.        , 0.        , 0.        , 0.        ,\n",
       "       0.        , 0.        , 0.        , 0.        , 0.        ,\n",
       "       0.        , 0.        , 0.        , 0.        , 0.        ,\n",
       "       0.        , 0.        , 0.        , 0.        , 0.        ,\n",
       "       0.        , 0.        , 0.        , 0.        , 0.        ,\n",
       "       0.        , 0.        , 0.        , 0.        , 0.        ,\n",
       "       0.        , 0.        , 0.        , 0.        , 0.        ,\n",
       "       0.        , 0.        , 0.        , 0.        , 0.        ,\n",
       "       0.        , 0.        , 0.        , 0.        , 0.        ,\n",
       "       0.        , 0.        , 0.        , 0.        , 0.        ,\n",
       "       0.        , 0.        , 0.        , 0.        , 0.        ,\n",
       "       0.        , 0.        , 0.        , 0.        , 0.        ,\n",
       "       0.        , 0.        , 0.        , 0.        , 0.        ,\n",
       "       0.        , 0.        , 0.        , 0.        , 0.        ,\n",
       "       0.        , 0.        , 0.        , 0.        , 0.        ,\n",
       "       0.        , 0.        , 0.        , 0.        , 0.        ,\n",
       "       0.        , 0.        , 0.        , 0.        , 0.        ,\n",
       "       0.        , 0.        , 0.        , 0.        , 0.        ,\n",
       "       0.        , 0.        , 0.        , 0.        , 0.        ,\n",
       "       0.        , 0.        , 0.        , 0.        , 0.        ,\n",
       "       0.        , 0.        , 0.        , 0.        , 0.        ,\n",
       "       0.        , 0.        , 0.        , 0.        , 0.        ,\n",
       "       0.        , 0.        , 0.        , 0.        , 0.        ,\n",
       "       0.        , 0.        , 0.        , 0.        , 0.        ,\n",
       "       0.        , 0.        , 0.        , 0.        , 0.        ,\n",
       "       0.        , 0.        , 0.        , 0.        , 0.        ,\n",
       "       0.        , 0.        , 0.01171875, 0.0703125 , 0.0703125 ,\n",
       "       0.0703125 , 0.4921875 , 0.53125   , 0.68359375, 0.1015625 ,\n",
       "       0.6484375 , 0.99609375, 0.96484375, 0.49609375, 0.        ,\n",
       "       0.        , 0.        , 0.        , 0.        , 0.        ,\n",
       "       0.        , 0.        , 0.        , 0.        , 0.        ,\n",
       "       0.        , 0.1171875 , 0.140625  , 0.3671875 , 0.6015625 ,\n",
       "       0.6640625 , 0.98828125, 0.98828125, 0.98828125, 0.98828125,\n",
       "       0.98828125, 0.87890625, 0.671875  , 0.98828125, 0.9453125 ,\n",
       "       0.76171875, 0.25      , 0.        , 0.        , 0.        ,\n",
       "       0.        , 0.        , 0.        , 0.        , 0.        ,\n",
       "       0.        , 0.        , 0.        , 0.19140625, 0.9296875 ,\n",
       "       0.98828125, 0.98828125, 0.98828125, 0.98828125, 0.98828125,\n",
       "       0.98828125, 0.98828125, 0.98828125, 0.98046875, 0.36328125,\n",
       "       0.3203125 , 0.3203125 , 0.21875   , 0.15234375, 0.        ,\n",
       "       0.        , 0.        , 0.        , 0.        , 0.        ,\n",
       "       0.        , 0.        , 0.        , 0.        , 0.        ,\n",
       "       0.        , 0.0703125 , 0.85546875, 0.98828125, 0.98828125,\n",
       "       0.98828125, 0.98828125, 0.98828125, 0.7734375 , 0.7109375 ,\n",
       "       0.96484375, 0.94140625, 0.        , 0.        , 0.        ,\n",
       "       0.        , 0.        , 0.        , 0.        , 0.        ,\n",
       "       0.        , 0.        , 0.        , 0.        , 0.        ,\n",
       "       0.        , 0.        , 0.        , 0.        , 0.        ,\n",
       "       0.3125    , 0.609375  , 0.41796875, 0.98828125, 0.98828125,\n",
       "       0.80078125, 0.04296875, 0.        , 0.16796875, 0.6015625 ,\n",
       "       0.        , 0.        , 0.        , 0.        , 0.        ,\n",
       "       0.        , 0.        , 0.        , 0.        , 0.        ,\n",
       "       0.        , 0.        , 0.        , 0.        , 0.        ,\n",
       "       0.        , 0.        , 0.        , 0.        , 0.0546875 ,\n",
       "       0.00390625, 0.6015625 , 0.98828125, 0.3515625 , 0.        ,\n",
       "       0.        , 0.        , 0.        , 0.        , 0.        ,\n",
       "       0.        , 0.        , 0.        , 0.        , 0.        ,\n",
       "       0.        , 0.        , 0.        , 0.        , 0.        ,\n",
       "       0.        , 0.        , 0.        , 0.        , 0.        ,\n",
       "       0.        , 0.        , 0.        , 0.        , 0.54296875,\n",
       "       0.98828125, 0.7421875 , 0.0078125 , 0.        , 0.        ,\n",
       "       0.        , 0.        , 0.        , 0.        , 0.        ,\n",
       "       0.        , 0.        , 0.        , 0.        , 0.        ,\n",
       "       0.        , 0.        , 0.        , 0.        , 0.        ,\n",
       "       0.        , 0.        , 0.        , 0.        , 0.        ,\n",
       "       0.        , 0.        , 0.04296875, 0.7421875 , 0.98828125,\n",
       "       0.2734375 , 0.        , 0.        , 0.        , 0.        ,\n",
       "       0.        , 0.        , 0.        , 0.        , 0.        ,\n",
       "       0.        , 0.        , 0.        , 0.        , 0.        ,\n",
       "       0.        , 0.        , 0.        , 0.        , 0.        ,\n",
       "       0.        , 0.        , 0.        , 0.        , 0.        ,\n",
       "       0.        , 0.13671875, 0.94140625, 0.87890625, 0.625     ,\n",
       "       0.421875  , 0.00390625, 0.        , 0.        , 0.        ,\n",
       "       0.        , 0.        , 0.        , 0.        , 0.        ,\n",
       "       0.        , 0.        , 0.        , 0.        , 0.        ,\n",
       "       0.        , 0.        , 0.        , 0.        , 0.        ,\n",
       "       0.        , 0.        , 0.        , 0.        , 0.        ,\n",
       "       0.31640625, 0.9375    , 0.98828125, 0.98828125, 0.46484375,\n",
       "       0.09765625, 0.        , 0.        , 0.        , 0.        ,\n",
       "       0.        , 0.        , 0.        , 0.        , 0.        ,\n",
       "       0.        , 0.        , 0.        , 0.        , 0.        ,\n",
       "       0.        , 0.        , 0.        , 0.        , 0.        ,\n",
       "       0.        , 0.        , 0.        , 0.        , 0.17578125,\n",
       "       0.7265625 , 0.98828125, 0.98828125, 0.5859375 , 0.10546875,\n",
       "       0.        , 0.        , 0.        , 0.        , 0.        ,\n",
       "       0.        , 0.        , 0.        , 0.        , 0.        ,\n",
       "       0.        , 0.        , 0.        , 0.        , 0.        ,\n",
       "       0.        , 0.        , 0.        , 0.        , 0.        ,\n",
       "       0.        , 0.        , 0.        , 0.0625    , 0.36328125,\n",
       "       0.984375  , 0.98828125, 0.73046875, 0.        , 0.        ,\n",
       "       0.        , 0.        , 0.        , 0.        , 0.        ,\n",
       "       0.        , 0.        , 0.        , 0.        , 0.        ,\n",
       "       0.        , 0.        , 0.        , 0.        , 0.        ,\n",
       "       0.        , 0.        , 0.        , 0.        , 0.        ,\n",
       "       0.        , 0.        , 0.        , 0.97265625, 0.98828125,\n",
       "       0.97265625, 0.25      , 0.        , 0.        , 0.        ,\n",
       "       0.        , 0.        , 0.        , 0.        , 0.        ,\n",
       "       0.        , 0.        , 0.        , 0.        , 0.        ,\n",
       "       0.        , 0.        , 0.        , 0.        , 0.        ,\n",
       "       0.        , 0.        , 0.        , 0.1796875 , 0.5078125 ,\n",
       "       0.71484375, 0.98828125, 0.98828125, 0.80859375, 0.0078125 ,\n",
       "       0.        , 0.        , 0.        , 0.        , 0.        ,\n",
       "       0.        , 0.        , 0.        , 0.        , 0.        ,\n",
       "       0.        , 0.        , 0.        , 0.        , 0.        ,\n",
       "       0.        , 0.        , 0.        , 0.        , 0.15234375,\n",
       "       0.578125  , 0.89453125, 0.98828125, 0.98828125, 0.98828125,\n",
       "       0.9765625 , 0.7109375 , 0.        , 0.        , 0.        ,\n",
       "       0.        , 0.        , 0.        , 0.        , 0.        ,\n",
       "       0.        , 0.        , 0.        , 0.        , 0.        ,\n",
       "       0.        , 0.        , 0.        , 0.        , 0.        ,\n",
       "       0.09375   , 0.4453125 , 0.86328125, 0.98828125, 0.98828125,\n",
       "       0.98828125, 0.98828125, 0.78515625, 0.3046875 , 0.        ,\n",
       "       0.        , 0.        , 0.        , 0.        , 0.        ,\n",
       "       0.        , 0.        , 0.        , 0.        , 0.        ,\n",
       "       0.        , 0.        , 0.        , 0.        , 0.        ,\n",
       "       0.        , 0.08984375, 0.2578125 , 0.83203125, 0.98828125,\n",
       "       0.98828125, 0.98828125, 0.98828125, 0.7734375 , 0.31640625,\n",
       "       0.0078125 , 0.        , 0.        , 0.        , 0.        ,\n",
       "       0.        , 0.        , 0.        , 0.        , 0.        ,\n",
       "       0.        , 0.        , 0.        , 0.        , 0.        ,\n",
       "       0.        , 0.        , 0.0703125 , 0.66796875, 0.85546875,\n",
       "       0.98828125, 0.98828125, 0.98828125, 0.98828125, 0.76171875,\n",
       "       0.3125    , 0.03515625, 0.        , 0.        , 0.        ,\n",
       "       0.        , 0.        , 0.        , 0.        , 0.        ,\n",
       "       0.        , 0.        , 0.        , 0.        , 0.        ,\n",
       "       0.        , 0.        , 0.        , 0.21484375, 0.671875  ,\n",
       "       0.8828125 , 0.98828125, 0.98828125, 0.98828125, 0.98828125,\n",
       "       0.953125  , 0.51953125, 0.04296875, 0.        , 0.        ,\n",
       "       0.        , 0.        , 0.        , 0.        , 0.        ,\n",
       "       0.        , 0.        , 0.        , 0.        , 0.        ,\n",
       "       0.        , 0.        , 0.        , 0.        , 0.        ,\n",
       "       0.        , 0.53125   , 0.98828125, 0.98828125, 0.98828125,\n",
       "       0.828125  , 0.52734375, 0.515625  , 0.0625    , 0.        ,\n",
       "       0.        , 0.        , 0.        , 0.        , 0.        ,\n",
       "       0.        , 0.        , 0.        , 0.        , 0.        ,\n",
       "       0.        , 0.        , 0.        , 0.        , 0.        ,\n",
       "       0.        , 0.        , 0.        , 0.        , 0.        ,\n",
       "       0.        , 0.        , 0.        , 0.        , 0.        ,\n",
       "       0.        , 0.        , 0.        , 0.        , 0.        ,\n",
       "       0.        , 0.        , 0.        , 0.        , 0.        ,\n",
       "       0.        , 0.        , 0.        , 0.        , 0.        ,\n",
       "       0.        , 0.        , 0.        , 0.        , 0.        ,\n",
       "       0.        , 0.        , 0.        , 0.        , 0.        ,\n",
       "       0.        , 0.        , 0.        , 0.        , 0.        ,\n",
       "       0.        , 0.        , 0.        , 0.        , 0.        ,\n",
       "       0.        , 0.        , 0.        , 0.        , 0.        ,\n",
       "       0.        , 0.        , 0.        , 0.        , 0.        ,\n",
       "       0.        , 0.        , 0.        , 0.        , 0.        ,\n",
       "       0.        , 0.        , 0.        , 0.        , 0.        ,\n",
       "       0.        , 0.        , 0.        , 0.        , 0.        ,\n",
       "       0.        , 0.        , 0.        , 0.        , 0.        ,\n",
       "       0.        , 0.        , 0.        , 0.        , 0.        ,\n",
       "       0.        , 0.        , 0.        , 0.        ], dtype=float32)"
      ]
     },
     "execution_count": 25,
     "metadata": {},
     "output_type": "execute_result"
    }
   ],
   "source": [
    "tr_d[0][0]"
   ]
  },
  {
   "cell_type": "code",
   "execution_count": 22,
   "metadata": {
    "collapsed": true
   },
   "outputs": [],
   "source": [
    "def vectorized_result(j):\n",
    "    \"\"\"Return a 10-dimensional unit vector with a 1.0 in the jth\n",
    "    position and zeroes elsewhere.  This is used to convert a digit\n",
    "    (0...9) into a corresponding desired output from the neural\n",
    "    network.\"\"\"\n",
    "    e = zeros((10))\n",
    "    e[j] = 1.0\n",
    "    return e"
   ]
  },
  {
   "cell_type": "code",
   "execution_count": 298,
   "metadata": {},
   "outputs": [],
   "source": [
    "global training_inputs, training_results\n",
    "global validation_inputs, validation_results\n",
    "global test_inputs, test_results\n",
    "global num_samples, numpixels, num_test_samples\n",
    "tr_d, va_d, te_d = training_data, validation_data, test_data\n",
    "num_samples=len(tr_d[0])\n",
    "numpixels=784\n",
    "\n",
    "###training results ####\n",
    "training_inputs=zeros([num_samples,numpixels])\n",
    "training_results=zeros([num_samples,10])\n",
    "for j in range(num_samples):\n",
    "    training_inputs[j,:] = reshape(tr_d[0][j], (numpixels))\n",
    "    training_results[j,:] = vectorized_result(tr_d[1][j])\n",
    "##### test inputs ####\n",
    "num_test_samples=len(te_d[0])\n",
    "test_inputs=zeros([num_test_samples,numpixels])\n",
    "test_results=zeros([num_test_samples,10])    \n",
    "for j in range(num_test_samples):\n",
    "    test_inputs[j,:] = reshape(te_d[0][j], (numpixels))\n",
    "    test_results[j,:] = vectorized_result(te_d[1][j])\n",
    "\n",
    "###validation ####\n",
    "num_test_samples=len(va_d[0])\n",
    "validation_inputs=zeros([num_test_samples,numpixels])\n",
    "validation_results=zeros([num_test_samples,10])    \n",
    "for j in range(num_test_samples):\n",
    "    validation_inputs[j,:] = reshape(va_d[0][j], (numpixels))\n",
    "    validation_results[j,:] = vectorized_result(va_d[1][j])"
   ]
  },
  {
   "cell_type": "code",
   "execution_count": 34,
   "metadata": {},
   "outputs": [
    {
     "data": {
      "text/plain": [
       "array([0., 0., 0., 0., 0., 0., 0., 1., 0., 0.])"
      ]
     },
     "execution_count": 34,
     "metadata": {},
     "output_type": "execute_result"
    }
   ],
   "source": [
    "test_results[0]\n"
   ]
  },
  {
   "cell_type": "code",
   "execution_count": 31,
   "metadata": {
    "collapsed": true
   },
   "outputs": [],
   "source": [
    "def display_image(which):\n",
    "    global test_inputs\n",
    "    \n",
    "    plt.imshow(reshape(test_inputs[which,:],[28,28]),interpolation='nearest', cmap='binary')\n",
    "    plt.show()"
   ]
  },
  {
   "cell_type": "code",
   "execution_count": 33,
   "metadata": {},
   "outputs": [
    {
     "data": {
      "image/png": "[encoded data removed]",
      "text/plain": [
       "<Figure size 432x288 with 1 Axes>"
      ]
     },
     "metadata": {},
     "output_type": "display_data"
    }
   ],
   "source": [
    "display_image(0)"
   ]
  },
  {
   "cell_type": "code",
   "execution_count": 107,
   "metadata": {},
   "outputs": [],
   "source": [
    "# initialize the network\n",
    "def init_net():\n",
    "    global net, numpixels\n",
    "    net = Sequential()\n",
    "    # note: batch_input_shape is (batchsize,timesteps,data_dim)\n",
    "    net.add(Dense(30, input_shape=(numpixels,), activation='relu'))\n",
    "    net.add(Dense(10, activation='softmax'))\n",
    "    net.compile(loss='categorical_crossentropy', optimizer=tf.keras.optimizers.SGD(learning_rate=1.0), metrics=['categorical_accuracy'])"
   ]
  },
  {
   "cell_type": "code",
   "execution_count": 146,
   "metadata": {
    "collapsed": true
   },
   "outputs": [],
   "source": [
    "# initialize the network\n",
    "def init_net():\n",
    "    global net, numpixels\n",
    "    net = Sequential()\n",
    "    # note: batch_input_shape is (batchsize,timesteps,data_dim)\n",
    "    net.add(Dense(100, input_shape=(numpixels,), activation='relu'))\n",
    "    net.add(GaussianDropout(0.1))\n",
    "    net.add(Dense(100, activation='relu'))\n",
    "    net.add(GaussianDropout(0.1))\n",
    "    net.add(Dense(100, activation='relu'))\n",
    "    net.add(Dense(10, activation='softmax'))\n",
    "    net.compile(loss='categorical_crossentropy', optimizer='adagrad', metrics=['accuracy'])"
   ]
  },
  {
   "cell_type": "code",
   "execution_count": 48,
   "metadata": {},
   "outputs": [],
   "source": [
    "Sequential.compile?"
   ]
  },
  {
   "cell_type": "code",
   "execution_count": 126,
   "metadata": {},
   "outputs": [],
   "source": [
    "init_net()"
   ]
  },
  {
   "cell_type": "code",
   "execution_count": 127,
   "metadata": {},
   "outputs": [
    {
     "data": {
      "image/png": "[encoded data removed]",
      "text/plain": [
       "<Figure size 432x288 with 1 Axes>"
      ]
     },
     "metadata": {},
     "output_type": "display_data"
    }
   ],
   "source": [
    "batchsize=100\n",
    "batches=int(num_samples/batchsize)-1\n",
    "costs=zeros(batches)\n",
    "for j in range(batches):\n",
    "    costs[j]=net.train_on_batch(training_inputs[j*batchsize:(j+1)*batchsize,:], training_results[j*batchsize:(j+1)*batchsize,:])[0]\n",
    "plt.plot(costs,linewidth=3)\n",
    "plt.show()"
   ]
  },
  {
   "cell_type": "code",
   "execution_count": 73,
   "metadata": {},
   "outputs": [],
   "source": [
    "def test_on(start,stop,dontprint=False):\n",
    "    global test_inputs, test_results\n",
    "    global net, predictions_probs, predictions, true_labels\n",
    "    \n",
    "    predictions_probs=net.predict_on_batch(test_inputs[start:stop,:])\n",
    "    predictions=argmax(predictions_probs,axis=1)\n",
    "    if dontprint==False:\n",
    "        print(\"Predictions: \", predictions)\n",
    "    true_labels=argmax(test_results[start:stop,:], axis=1)\n",
    "    if dontprint==False:\n",
    "        print(\"True labels: \", true_labels)"
   ]
  },
  {
   "cell_type": "code",
   "execution_count": 145,
   "metadata": {},
   "outputs": [
    {
     "name": "stdout",
     "output_type": "stream",
     "text": [
      "Predictions:  [7 2 1 0 4 1 4 9 6 9 0 6 9 0 1 5 9 7 3 4]\n",
      "True labels:  [7 2 1 0 4 1 4 9 5 9 0 6 9 0 1 5 9 7 3 4]\n"
     ]
    }
   ],
   "source": [
    "test_on(0,20)"
   ]
  },
  {
   "cell_type": "code",
   "execution_count": 100,
   "metadata": {},
   "outputs": [],
   "source": [
    "predictions_probs=net.predict_on_batch(test_inputs[1:10,:])"
   ]
  },
  {
   "cell_type": "code",
   "execution_count": 101,
   "metadata": {},
   "outputs": [
    {
     "data": {
      "text/plain": [
       "(9, 10)"
      ]
     },
     "execution_count": 101,
     "metadata": {},
     "output_type": "execute_result"
    }
   ],
   "source": [
    "np.shape(predictions_probs)"
   ]
  },
  {
   "cell_type": "code",
   "execution_count": 94,
   "metadata": {},
   "outputs": [
    {
     "data": {
      "text/plain": [
       "1.0"
      ]
     },
     "execution_count": 94,
     "metadata": {},
     "output_type": "execute_result"
    }
   ],
   "source": [
    "sum(predictions_probs[0])"
   ]
  },
  {
   "cell_type": "code",
   "execution_count": 102,
   "metadata": {
    "collapsed": true
   },
   "outputs": [],
   "source": [
    "predictions=argmax(predictions_probs,axis=1)"
   ]
  },
  {
   "cell_type": "code",
   "execution_count": 103,
   "metadata": {},
   "outputs": [
    {
     "data": {
      "text/plain": [
       "array([2, 1, 0, 4, 1, 7, 8, 6, 7])"
      ]
     },
     "execution_count": 103,
     "metadata": {},
     "output_type": "execute_result"
    }
   ],
   "source": [
    "predictions"
   ]
  },
  {
   "cell_type": "code",
   "execution_count": 83,
   "metadata": {},
   "outputs": [
    {
     "data": {
      "text/plain": [
       "2"
      ]
     },
     "execution_count": 83,
     "metadata": {},
     "output_type": "execute_result"
    }
   ],
   "source": [
    "argmax(predictions_probs[0])"
   ]
  },
  {
   "cell_type": "code",
   "execution_count": 84,
   "metadata": {
    "collapsed": true
   },
   "outputs": [],
   "source": [
    "argmax?"
   ]
  },
  {
   "cell_type": "code",
   "execution_count": 85,
   "metadata": {
    "collapsed": true
   },
   "outputs": [],
   "source": [
    "def display_mistakes(maxnum):\n",
    "    global test_inputs, rest_results, num_test_samples\n",
    "    global true_labels, predictions, predictions_probs\n",
    "    \n",
    "    test_on(0,num_test_samples,dontprint=True)\n",
    "    which=where(true_labels!=predictions)[0]\n",
    "    for j in which:\n",
    "        if j<maxnum:\n",
    "            display_image(j)\n",
    "            print(\"True \", true_labels[j], \" - Predicted \", predictions[j], \" with prob. \", predictions_probs[j,predictions[j]])\n",
    "        "
   ]
  },
  {
   "cell_type": "code",
   "execution_count": 143,
   "metadata": {},
   "outputs": [
    {
     "data": {
      "image/png": "[encoded data removed]",
      "text/plain": [
       "<Figure size 432x288 with 1 Axes>"
      ]
     },
     "metadata": {},
     "output_type": "display_data"
    },
    {
     "name": "stdout",
     "output_type": "stream",
     "text": [
      "True  5  - Predicted  6  with prob.  0.8649116\n"
     ]
    },
    {
     "data": {
      "image/png": "[encoded data removed]",
      "text/plain": [
       "<Figure size 432x288 with 1 Axes>"
      ]
     },
     "metadata": {},
     "output_type": "display_data"
    },
    {
     "name": "stdout",
     "output_type": "stream",
     "text": [
      "True  2  - Predicted  3  with prob.  0.53473634\n"
     ]
    }
   ],
   "source": [
    "display_mistakes(100)"
   ]
  },
  {
   "cell_type": "code",
   "execution_count": 138,
   "metadata": {},
   "outputs": [],
   "source": [
    "Sequential.fit?"
   ]
  },
  {
   "cell_type": "code",
   "execution_count": 147,
   "metadata": {
    "collapsed": true
   },
   "outputs": [],
   "source": [
    "init_net()"
   ]
  },
  {
   "cell_type": "code",
   "execution_count": 148,
   "metadata": {},
   "outputs": [
    {
     "name": "stdout",
     "output_type": "stream",
     "text": [
      "Epoch 1/30\n",
      "450/450 [==============================] - 2s 4ms/step - loss: 2.1979 - accuracy: 0.2291 - val_loss: 2.0157 - val_accuracy: 0.4344\n",
      "Epoch 2/30\n",
      "450/450 [==============================] - 2s 4ms/step - loss: 1.7883 - accuracy: 0.5100 - val_loss: 1.4394 - val_accuracy: 0.6718\n",
      "Epoch 3/30\n",
      "450/450 [==============================] - 1s 3ms/step - loss: 1.2534 - accuracy: 0.6830 - val_loss: 0.9443 - val_accuracy: 0.7756\n",
      "Epoch 4/30\n",
      "450/450 [==============================] - 1s 3ms/step - loss: 0.9184 - accuracy: 0.7483 - val_loss: 0.7140 - val_accuracy: 0.8144\n",
      "Epoch 5/30\n",
      "450/450 [==============================] - 1s 3ms/step - loss: 0.7548 - accuracy: 0.7823 - val_loss: 0.6054 - val_accuracy: 0.8346\n",
      "Epoch 6/30\n",
      "450/450 [==============================] - 2s 3ms/step - loss: 0.6672 - accuracy: 0.8045 - val_loss: 0.5461 - val_accuracy: 0.8442\n",
      "Epoch 7/30\n",
      "450/450 [==============================] - 2s 3ms/step - loss: 0.6083 - accuracy: 0.8196 - val_loss: 0.5051 - val_accuracy: 0.8536\n",
      "Epoch 8/30\n",
      "450/450 [==============================] - 2s 3ms/step - loss: 0.5689 - accuracy: 0.8316 - val_loss: 0.4774 - val_accuracy: 0.8626\n",
      "Epoch 9/30\n",
      "450/450 [==============================] - 1s 3ms/step - loss: 0.5387 - accuracy: 0.8397 - val_loss: 0.4540 - val_accuracy: 0.8668\n",
      "Epoch 10/30\n",
      "450/450 [==============================] - 2s 3ms/step - loss: 0.5123 - accuracy: 0.8490 - val_loss: 0.4371 - val_accuracy: 0.8722\n",
      "Epoch 11/30\n",
      "450/450 [==============================] - 1s 3ms/step - loss: 0.4920 - accuracy: 0.8560 - val_loss: 0.4218 - val_accuracy: 0.8762\n",
      "Epoch 12/30\n",
      "450/450 [==============================] - 2s 3ms/step - loss: 0.4739 - accuracy: 0.8608 - val_loss: 0.4098 - val_accuracy: 0.8792\n",
      "Epoch 13/30\n",
      "450/450 [==============================] - 1s 3ms/step - loss: 0.4581 - accuracy: 0.8637 - val_loss: 0.3980 - val_accuracy: 0.8840\n",
      "Epoch 14/30\n",
      "450/450 [==============================] - 1s 3ms/step - loss: 0.4436 - accuracy: 0.8698 - val_loss: 0.3886 - val_accuracy: 0.8870\n",
      "Epoch 15/30\n",
      "450/450 [==============================] - 2s 4ms/step - loss: 0.4307 - accuracy: 0.8724 - val_loss: 0.3789 - val_accuracy: 0.8886\n",
      "Epoch 16/30\n",
      "450/450 [==============================] - 2s 3ms/step - loss: 0.4215 - accuracy: 0.8770 - val_loss: 0.3720 - val_accuracy: 0.8900\n",
      "Epoch 17/30\n",
      "450/450 [==============================] - 2s 3ms/step - loss: 0.4138 - accuracy: 0.8799 - val_loss: 0.3652 - val_accuracy: 0.8916\n",
      "Epoch 18/30\n",
      "450/450 [==============================] - 2s 4ms/step - loss: 0.4024 - accuracy: 0.8814 - val_loss: 0.3580 - val_accuracy: 0.8942\n",
      "Epoch 19/30\n",
      "450/450 [==============================] - 2s 4ms/step - loss: 0.3960 - accuracy: 0.8845 - val_loss: 0.3532 - val_accuracy: 0.8942\n",
      "Epoch 20/30\n",
      "450/450 [==============================] - 2s 3ms/step - loss: 0.3854 - accuracy: 0.8881 - val_loss: 0.3471 - val_accuracy: 0.8960\n",
      "Epoch 21/30\n",
      "450/450 [==============================] - 2s 3ms/step - loss: 0.3825 - accuracy: 0.8891 - val_loss: 0.3426 - val_accuracy: 0.8962\n",
      "Epoch 22/30\n",
      "450/450 [==============================] - 2s 4ms/step - loss: 0.3719 - accuracy: 0.8922 - val_loss: 0.3372 - val_accuracy: 0.8980\n",
      "Epoch 23/30\n",
      "450/450 [==============================] - 2s 3ms/step - loss: 0.3659 - accuracy: 0.8936 - val_loss: 0.3324 - val_accuracy: 0.9002\n",
      "Epoch 24/30\n",
      "450/450 [==============================] - 2s 3ms/step - loss: 0.3603 - accuracy: 0.8945 - val_loss: 0.3283 - val_accuracy: 0.9014\n",
      "Epoch 25/30\n",
      "450/450 [==============================] - 2s 3ms/step - loss: 0.3544 - accuracy: 0.8954 - val_loss: 0.3240 - val_accuracy: 0.9044\n",
      "Epoch 26/30\n",
      "450/450 [==============================] - 1s 3ms/step - loss: 0.3499 - accuracy: 0.8994 - val_loss: 0.3206 - val_accuracy: 0.9048\n",
      "Epoch 27/30\n",
      "450/450 [==============================] - 1s 3ms/step - loss: 0.3473 - accuracy: 0.8989 - val_loss: 0.3166 - val_accuracy: 0.9058\n",
      "Epoch 28/30\n",
      "450/450 [==============================] - 2s 4ms/step - loss: 0.3396 - accuracy: 0.9001 - val_loss: 0.3131 - val_accuracy: 0.9074\n",
      "Epoch 29/30\n",
      "450/450 [==============================] - 2s 3ms/step - loss: 0.3395 - accuracy: 0.9004 - val_loss: 0.3102 - val_accuracy: 0.9078\n",
      "Epoch 30/30\n",
      "450/450 [==============================] - 2s 3ms/step - loss: 0.3311 - accuracy: 0.9032 - val_loss: 0.3068 - val_accuracy: 0.9092\n"
     ]
    }
   ],
   "source": [
    "history=net.fit(training_inputs,training_results,batch_size=100,epochs=30,validation_split=0.1)"
   ]
  },
  {
   "cell_type": "code",
   "execution_count": 139,
   "metadata": {},
   "outputs": [
    {
     "data": {
      "image/png": "[encoded data removed]",
      "text/plain": [
       "<Figure size 432x288 with 1 Axes>"
      ]
     },
     "metadata": {},
     "output_type": "display_data"
    }
   ],
   "source": [
    "plt.plot(history.history['val_accuracy'], linewidth=3, ls=\"--\")\n",
    "plt.plot(history.history['accuracy'], linewidth=3)\n",
    "plt.show()"
   ]
  },
  {
   "cell_type": "code",
   "execution_count": 150,
   "metadata": {},
   "outputs": [
    {
     "data": {
      "image/png": "[encoded data removed]",
      "text/plain": [
       "<Figure size 432x288 with 1 Axes>"
      ]
     },
     "metadata": {},
     "output_type": "display_data"
    }
   ],
   "source": [
    "plt.plot(history.history['val_accuracy'], linewidth=3, ls=\"--\")\n",
    "plt.plot(history.history['accuracy'], linewidth=3)\n",
    "plt.show()"
   ]
  },
  {
   "cell_type": "code",
   "execution_count": 140,
   "metadata": {},
   "outputs": [
    {
     "data": {
      "text/plain": [
       "[<matplotlib.lines.Line2D at 0x15650d400>]"
      ]
     },
     "execution_count": 140,
     "metadata": {},
     "output_type": "execute_result"
    },
    {
     "data": {
      "image/png": "[encoded data removed]",
      "text/plain": [
       "<Figure size 432x288 with 1 Axes>"
      ]
     },
     "metadata": {},
     "output_type": "display_data"
    }
   ],
   "source": [
    "plt.plot(history.history['loss'], linewidth=3, ls=\"--\")\n",
    "plt.plot(history.history['val_loss'], linewidth=3)"
   ]
  },
  {
   "cell_type": "code",
   "execution_count": 149,
   "metadata": {},
   "outputs": [
    {
     "data": {
      "text/plain": [
       "[<matplotlib.lines.Line2D at 0x158b77278>]"
      ]
     },
     "execution_count": 149,
     "metadata": {},
     "output_type": "execute_result"
    },
    {
     "data": {
      "image/png": "[encoded data removed]",
      "text/plain": [
       "<Figure size 432x288 with 1 Axes>"
      ]
     },
     "metadata": {},
     "output_type": "display_data"
    }
   ],
   "source": [
    "plt.plot(history.history['loss'], linewidth=3, ls=\"--\")\n",
    "plt.plot(history.history['val_loss'], linewidth=3)"
   ]
  },
  {
   "cell_type": "code",
   "execution_count": 141,
   "metadata": {},
   "outputs": [
    {
     "ename": "KeyError",
     "evalue": "'categorical_accuracy'",
     "output_type": "error",
     "traceback": [
      "\u001b[0;31m---------------------------------------------------------------------------\u001b[0m",
      "\u001b[0;31mKeyError\u001b[0m                                  Traceback (most recent call last)",
      "\u001b[0;32m<ipython-input-141-a4154c7f5c5e>\u001b[0m in \u001b[0;36m<module>\u001b[0;34m()\u001b[0m\n\u001b[1;32m      1\u001b[0m \u001b[0mfig\u001b[0m\u001b[0;34m=\u001b[0m\u001b[0mplt\u001b[0m\u001b[0;34m.\u001b[0m\u001b[0mfigure\u001b[0m\u001b[0;34m(\u001b[0m\u001b[0;34m)\u001b[0m\u001b[0;34m\u001b[0m\u001b[0;34m\u001b[0m\u001b[0m\n\u001b[0;32m----> 2\u001b[0;31m \u001b[0mplt\u001b[0m\u001b[0;34m.\u001b[0m\u001b[0mplot\u001b[0m\u001b[0;34m(\u001b[0m\u001b[0mhistory\u001b[0m\u001b[0;34m.\u001b[0m\u001b[0mhistory\u001b[0m\u001b[0;34m[\u001b[0m\u001b[0;34m'categorical_accuracy'\u001b[0m\u001b[0;34m]\u001b[0m\u001b[0;34m,\u001b[0m \u001b[0mlinewidth\u001b[0m\u001b[0;34m=\u001b[0m\u001b[0;36m3\u001b[0m\u001b[0;34m)\u001b[0m\u001b[0;34m\u001b[0m\u001b[0;34m\u001b[0m\u001b[0m\n\u001b[0m\u001b[1;32m      3\u001b[0m \u001b[0mplt\u001b[0m\u001b[0;34m.\u001b[0m\u001b[0mplot\u001b[0m\u001b[0;34m(\u001b[0m\u001b[0mhistory\u001b[0m\u001b[0;34m.\u001b[0m\u001b[0mhistory\u001b[0m\u001b[0;34m[\u001b[0m\u001b[0;34m'val_categorical_accuracy'\u001b[0m\u001b[0;34m]\u001b[0m\u001b[0;34m,\u001b[0m \u001b[0mlinewidth\u001b[0m\u001b[0;34m=\u001b[0m\u001b[0;36m3\u001b[0m\u001b[0;34m)\u001b[0m\u001b[0;34m\u001b[0m\u001b[0;34m\u001b[0m\u001b[0m\n\u001b[1;32m      4\u001b[0m \u001b[0mplt\u001b[0m\u001b[0;34m.\u001b[0m\u001b[0mshow\u001b[0m\u001b[0;34m(\u001b[0m\u001b[0;34m)\u001b[0m\u001b[0;34m\u001b[0m\u001b[0;34m\u001b[0m\u001b[0m\n",
      "\u001b[0;31mKeyError\u001b[0m: 'categorical_accuracy'"
     ]
    },
    {
     "data": {
      "text/plain": [
       "<Figure size 432x288 with 0 Axes>"
      ]
     },
     "metadata": {},
     "output_type": "display_data"
    }
   ],
   "source": [
    "fig=plt.figure()\n",
    "plt.plot(history.history['categorical_accuracy'], linewidth=3)\n",
    "plt.plot(history.history['val_categorical_accuracy'], linewidth=3)\n",
    "plt.show()"
   ]
  },
  {
   "cell_type": "code",
   "execution_count": 151,
   "metadata": {
    "collapsed": true
   },
   "outputs": [],
   "source": [
    "tf.keras.metrics?"
   ]
  },
  {
   "cell_type": "code",
   "execution_count": null,
   "metadata": {
    "collapsed": true
   },
   "outputs": [],
   "source": [
    "##### do the same task using convolutional network ###"
   ]
  },
  {
   "cell_type": "code",
   "execution_count": 152,
   "metadata": {
    "collapsed": true
   },
   "outputs": [],
   "source": [
    "from keras.layers import Dense, Conv2D\n",
    "from keras.layers.noise import GaussianDropout\n",
    "from keras.layers import Flatten, AveragePooling2D, UpSampling2D"
   ]
  },
  {
   "cell_type": "code",
   "execution_count": 153,
   "metadata": {
    "collapsed": true
   },
   "outputs": [],
   "source": [
    "global training_inputs, test_inputs\n",
    "global num_samples, num_test_samples\n",
    "global M"
   ]
  },
  {
   "cell_type": "code",
   "execution_count": 154,
   "metadata": {
    "collapsed": true
   },
   "outputs": [],
   "source": [
    "numpixels=784\n",
    "M=28"
   ]
  },
  {
   "cell_type": "code",
   "execution_count": 300,
   "metadata": {},
   "outputs": [],
   "source": [
    "training_inputs=reshape(training_inputs,[num_samples,M,M,1])#[:,::-1,:,:]\n",
    "test_inputs=reshape(test_inputs,[num_test_samples,M,M,1])#[:,::-1,:,:]"
   ]
  },
  {
   "cell_type": "code",
   "execution_count": 301,
   "metadata": {},
   "outputs": [
    {
     "data": {
      "text/plain": [
       "(28, 28, 1)"
      ]
     },
     "execution_count": 301,
     "metadata": {},
     "output_type": "execute_result"
    }
   ],
   "source": [
    "np.shape(training_inputs1[0])"
   ]
  },
  {
   "cell_type": "code",
   "execution_count": 256,
   "metadata": {},
   "outputs": [
    {
     "data": {
      "text/plain": [
       "<matplotlib.image.AxesImage at 0x16bc6cac8>"
      ]
     },
     "execution_count": 256,
     "metadata": {},
     "output_type": "execute_result"
    },
    {
     "data": {
      "image/png": "[encoded data removed]",
      "text/plain": [
       "<Figure size 432x288 with 1 Axes>"
      ]
     },
     "metadata": {},
     "output_type": "display_data"
    }
   ],
   "source": [
    "plt.imshow(training_inputs1[2][:,:,0])"
   ]
  },
  {
   "cell_type": "code",
   "execution_count": 258,
   "metadata": {},
   "outputs": [
    {
     "data": {
      "text/plain": [
       "<matplotlib.image.AxesImage at 0x16be88358>"
      ]
     },
     "execution_count": 258,
     "metadata": {},
     "output_type": "execute_result"
    },
    {
     "data": {
      "image/png": "[encoded data removed]",
      "text/plain": [
       "<Figure size 432x288 with 1 Axes>"
      ]
     },
     "metadata": {},
     "output_type": "display_data"
    }
   ],
   "source": [
    "plt.imshow(training_inputs1[2][:,:,0])"
   ]
  },
  {
   "cell_type": "code",
   "execution_count": 210,
   "metadata": {
    "collapsed": true
   },
   "outputs": [],
   "source": [
    "a = np.arange(2*4).reshape((2, 4))"
   ]
  },
  {
   "cell_type": "code",
   "execution_count": 211,
   "metadata": {},
   "outputs": [
    {
     "data": {
      "text/plain": [
       "array([[0, 1, 2, 3],\n",
       "       [4, 5, 6, 7]])"
      ]
     },
     "execution_count": 211,
     "metadata": {},
     "output_type": "execute_result"
    }
   ],
   "source": [
    "a"
   ]
  },
  {
   "cell_type": "code",
   "execution_count": 192,
   "metadata": {},
   "outputs": [
    {
     "data": {
      "text/plain": [
       "(50000, 784)"
      ]
     },
     "execution_count": 192,
     "metadata": {},
     "output_type": "execute_result"
    }
   ],
   "source": [
    "np.shape(training_inputs)"
   ]
  },
  {
   "cell_type": "code",
   "execution_count": 212,
   "metadata": {},
   "outputs": [
    {
     "data": {
      "text/plain": [
       "(2, 4)"
      ]
     },
     "execution_count": 212,
     "metadata": {},
     "output_type": "execute_result"
    }
   ],
   "source": [
    "np.shape(a)"
   ]
  },
  {
   "cell_type": "code",
   "execution_count": 251,
   "metadata": {
    "collapsed": true
   },
   "outputs": [],
   "source": [
    "b=reshape(a,[2,2,2])\n",
    "c=reshape(a,[2,2,2,1])\n",
    "c1=reshape(a,[2,2,2,1])[:,::-1,:,:]"
   ]
  },
  {
   "cell_type": "code",
   "execution_count": 214,
   "metadata": {},
   "outputs": [
    {
     "name": "stdout",
     "output_type": "stream",
     "text": [
      "[[[0 1]\n",
      "  [2 3]]\n",
      "\n",
      " [[4 5]\n",
      "  [6 7]]]\n"
     ]
    }
   ],
   "source": [
    "print(b)"
   ]
  },
  {
   "cell_type": "code",
   "execution_count": 252,
   "metadata": {},
   "outputs": [
    {
     "data": {
      "text/plain": [
       "array([[[[0],\n",
       "         [1]],\n",
       "\n",
       "        [[2],\n",
       "         [3]]],\n",
       "\n",
       "\n",
       "       [[[4],\n",
       "         [5]],\n",
       "\n",
       "        [[6],\n",
       "         [7]]]])"
      ]
     },
     "execution_count": 252,
     "metadata": {},
     "output_type": "execute_result"
    }
   ],
   "source": [
    "c"
   ]
  },
  {
   "cell_type": "code",
   "execution_count": 253,
   "metadata": {},
   "outputs": [
    {
     "data": {
      "text/plain": [
       "array([[[[2],\n",
       "         [3]],\n",
       "\n",
       "        [[0],\n",
       "         [1]]],\n",
       "\n",
       "\n",
       "       [[[6],\n",
       "         [7]],\n",
       "\n",
       "        [[4],\n",
       "         [5]]]])"
      ]
     },
     "execution_count": 253,
     "metadata": {},
     "output_type": "execute_result"
    }
   ],
   "source": [
    "c1"
   ]
  },
  {
   "cell_type": "code",
   "execution_count": 207,
   "metadata": {},
   "outputs": [
    {
     "data": {
      "text/plain": [
       "<matplotlib.image.AxesImage at 0x16ba970b8>"
      ]
     },
     "execution_count": 207,
     "metadata": {},
     "output_type": "execute_result"
    },
    {
     "data": {
      "image/png": "[encoded data removed]",
      "text/plain": [
       "<Figure size 432x288 with 1 Axes>"
      ]
     },
     "metadata": {},
     "output_type": "display_data"
    }
   ],
   "source": [
    "plt.imshow(b[0])"
   ]
  },
  {
   "cell_type": "code",
   "execution_count": 254,
   "metadata": {},
   "outputs": [
    {
     "data": {
      "text/plain": [
       "<matplotlib.image.AxesImage at 0x15c3a96d8>"
      ]
     },
     "execution_count": 254,
     "metadata": {},
     "output_type": "execute_result"
    },
    {
     "data": {
      "image/png": "[encoded data removed]",
      "text/plain": [
       "<Figure size 432x288 with 1 Axes>"
      ]
     },
     "metadata": {},
     "output_type": "display_data"
    }
   ],
   "source": [
    "plt.imshow(c1[0][:,:,0])"
   ]
  },
  {
   "cell_type": "code",
   "execution_count": 242,
   "metadata": {},
   "outputs": [
    {
     "name": "stdout",
     "output_type": "stream",
     "text": [
      "[[[0]\n",
      "  [1]]\n",
      "\n",
      " [[2]\n",
      "  [3]]]\n"
     ]
    }
   ],
   "source": [
    "print(c[0])"
   ]
  },
  {
   "cell_type": "code",
   "execution_count": 243,
   "metadata": {},
   "outputs": [
    {
     "data": {
      "text/plain": [
       "array([[0, 1],\n",
       "       [2, 3]])"
      ]
     },
     "execution_count": 243,
     "metadata": {},
     "output_type": "execute_result"
    }
   ],
   "source": [
    "b[0]"
   ]
  },
  {
   "cell_type": "code",
   "execution_count": 241,
   "metadata": {},
   "outputs": [
    {
     "data": {
      "text/plain": [
       "0"
      ]
     },
     "execution_count": 241,
     "metadata": {},
     "output_type": "execute_result"
    }
   ],
   "source": [
    "c[0][0][0][0]"
   ]
  },
  {
   "cell_type": "code",
   "execution_count": 249,
   "metadata": {},
   "outputs": [
    {
     "data": {
      "text/plain": [
       "array([[0]])"
      ]
     },
     "execution_count": 249,
     "metadata": {},
     "output_type": "execute_result"
    }
   ],
   "source": [
    "c[0][0:1,0:1,0]"
   ]
  },
  {
   "cell_type": "code",
   "execution_count": 260,
   "metadata": {
    "collapsed": true
   },
   "outputs": [],
   "source": [
    "# initialize the convolutional network\n",
    "def init_net_conv_twolayer():\n",
    "    global net, numpixels\n",
    "    net = Sequential()\n",
    "    net.add(Conv2D(input_shape=(M,M,1), filters=8, kernel_size=[5,5],activation='relu',padding='same'))\n",
    "    net.add(AveragePooling2D(pool_size=2))\n",
    "    net.add(Conv2D(filters=8, kernel_size=[5,5],activation='relu',padding='same'))    \n",
    "    net.add(AveragePooling2D(pool_size=2))\n",
    "    net.add(Flatten())\n",
    "    net.add(Dense(10, activation='softmax'))\n",
    "    net.compile(loss='categorical_crossentropy', optimizer='adam', metrics=['categorical_accuracy'])"
   ]
  },
  {
   "cell_type": "code",
   "execution_count": 302,
   "metadata": {
    "collapsed": true
   },
   "outputs": [],
   "source": [
    "init_net_conv_twolayer()"
   ]
  },
  {
   "cell_type": "code",
   "execution_count": 303,
   "metadata": {},
   "outputs": [
    {
     "data": {
      "image/png": "[encoded data removed]",
      "text/plain": [
       "<Figure size 432x288 with 1 Axes>"
      ]
     },
     "metadata": {},
     "output_type": "display_data"
    }
   ],
   "source": [
    "batchsize=100\n",
    "batches=int(num_samples/batchsize)-1\n",
    "costs=zeros(batches)\n",
    "for j in range(batches):\n",
    "    costs[j]=net.train_on_batch(training_inputs[j*batchsize:(j+1)*batchsize,:,:,:], training_results[j*batchsize:(j+1)*batchsize,:])[0]\n",
    "plt.plot(costs,linewidth=3)\n",
    "plt.show()"
   ]
  },
  {
   "cell_type": "code",
   "execution_count": 266,
   "metadata": {},
   "outputs": [
    {
     "name": "stdout",
     "output_type": "stream",
     "text": [
      "Epoch 1/50\n",
      "450/450 [==============================] - 20s 44ms/step - loss: 0.0241 - categorical_accuracy: 0.9924 - val_loss: 0.0643 - val_categorical_accuracy: 0.9804\n",
      "Epoch 2/50\n",
      "450/450 [==============================] - 20s 45ms/step - loss: 0.0242 - categorical_accuracy: 0.9926 - val_loss: 0.0591 - val_categorical_accuracy: 0.9812\n",
      "Epoch 3/50\n",
      "450/450 [==============================] - 20s 45ms/step - loss: 0.0223 - categorical_accuracy: 0.9931 - val_loss: 0.0646 - val_categorical_accuracy: 0.9800\n",
      "Epoch 4/50\n",
      "450/450 [==============================] - 20s 43ms/step - loss: 0.0210 - categorical_accuracy: 0.9933 - val_loss: 0.0707 - val_categorical_accuracy: 0.9786\n",
      "Epoch 5/50\n",
      "450/450 [==============================] - 20s 45ms/step - loss: 0.0213 - categorical_accuracy: 0.9932 - val_loss: 0.0698 - val_categorical_accuracy: 0.9808\n",
      "Epoch 6/50\n",
      "450/450 [==============================] - 19s 43ms/step - loss: 0.0210 - categorical_accuracy: 0.9933 - val_loss: 0.0698 - val_categorical_accuracy: 0.9790\n",
      "Epoch 7/50\n",
      "450/450 [==============================] - 20s 44ms/step - loss: 0.0200 - categorical_accuracy: 0.9935 - val_loss: 0.0675 - val_categorical_accuracy: 0.9800\n",
      "Epoch 8/50\n",
      "450/450 [==============================] - 21s 47ms/step - loss: 0.0202 - categorical_accuracy: 0.9938 - val_loss: 0.0714 - val_categorical_accuracy: 0.9812\n",
      "Epoch 9/50\n",
      "450/450 [==============================] - 20s 45ms/step - loss: 0.0188 - categorical_accuracy: 0.9940 - val_loss: 0.0676 - val_categorical_accuracy: 0.9810\n",
      "Epoch 10/50\n",
      "450/450 [==============================] - 2754s 6s/step - loss: 0.0183 - categorical_accuracy: 0.9941 - val_loss: 0.0741 - val_categorical_accuracy: 0.9800\n",
      "Epoch 11/50\n",
      "450/450 [==============================] - 21s 47ms/step - loss: 0.0180 - categorical_accuracy: 0.9939 - val_loss: 0.0670 - val_categorical_accuracy: 0.9828\n",
      "Epoch 12/50\n",
      "450/450 [==============================] - 20s 45ms/step - loss: 0.0172 - categorical_accuracy: 0.9946 - val_loss: 0.0753 - val_categorical_accuracy: 0.9790\n",
      "Epoch 13/50\n",
      "450/450 [==============================] - 21s 46ms/step - loss: 0.0169 - categorical_accuracy: 0.9946 - val_loss: 0.0684 - val_categorical_accuracy: 0.9798\n",
      "Epoch 14/50\n",
      "450/450 [==============================] - 21s 46ms/step - loss: 0.0168 - categorical_accuracy: 0.9947 - val_loss: 0.0689 - val_categorical_accuracy: 0.9808\n",
      "Epoch 15/50\n",
      "450/450 [==============================] - 20s 45ms/step - loss: 0.0164 - categorical_accuracy: 0.9946 - val_loss: 0.0713 - val_categorical_accuracy: 0.9822\n",
      "Epoch 16/50\n",
      "450/450 [==============================] - 20s 45ms/step - loss: 0.0149 - categorical_accuracy: 0.9952 - val_loss: 0.0721 - val_categorical_accuracy: 0.9806\n",
      "Epoch 17/50\n",
      "450/450 [==============================] - 20s 45ms/step - loss: 0.0159 - categorical_accuracy: 0.9946 - val_loss: 0.0724 - val_categorical_accuracy: 0.9800\n",
      "Epoch 18/50\n",
      "450/450 [==============================] - 20s 46ms/step - loss: 0.0148 - categorical_accuracy: 0.9956 - val_loss: 0.0662 - val_categorical_accuracy: 0.9832\n",
      "Epoch 19/50\n",
      "450/450 [==============================] - 21s 46ms/step - loss: 0.0140 - categorical_accuracy: 0.9959 - val_loss: 0.0651 - val_categorical_accuracy: 0.9808\n",
      "Epoch 20/50\n",
      "450/450 [==============================] - 21s 47ms/step - loss: 0.0143 - categorical_accuracy: 0.9952 - val_loss: 0.0693 - val_categorical_accuracy: 0.9818\n",
      "Epoch 21/50\n",
      "450/450 [==============================] - 21s 46ms/step - loss: 0.0135 - categorical_accuracy: 0.9956 - val_loss: 0.0690 - val_categorical_accuracy: 0.9788\n",
      "Epoch 22/50\n",
      "450/450 [==============================] - 20s 44ms/step - loss: 0.0135 - categorical_accuracy: 0.9957 - val_loss: 0.0736 - val_categorical_accuracy: 0.9808\n",
      "Epoch 23/50\n",
      "450/450 [==============================] - 20s 46ms/step - loss: 0.0123 - categorical_accuracy: 0.9962 - val_loss: 0.0706 - val_categorical_accuracy: 0.9824\n",
      "Epoch 24/50\n",
      "450/450 [==============================] - 21s 46ms/step - loss: 0.0115 - categorical_accuracy: 0.9964 - val_loss: 0.0724 - val_categorical_accuracy: 0.9798\n",
      "Epoch 25/50\n",
      "450/450 [==============================] - 21s 46ms/step - loss: 0.0127 - categorical_accuracy: 0.9958 - val_loss: 0.0699 - val_categorical_accuracy: 0.9816\n",
      "Epoch 26/50\n",
      "450/450 [==============================] - 21s 46ms/step - loss: 0.0125 - categorical_accuracy: 0.9960 - val_loss: 0.0746 - val_categorical_accuracy: 0.9832\n",
      "Epoch 27/50\n",
      "450/450 [==============================] - 20s 45ms/step - loss: 0.0126 - categorical_accuracy: 0.9957 - val_loss: 0.0674 - val_categorical_accuracy: 0.9814\n",
      "Epoch 28/50\n",
      "450/450 [==============================] - 20s 45ms/step - loss: 0.0110 - categorical_accuracy: 0.9964 - val_loss: 0.0708 - val_categorical_accuracy: 0.9830\n",
      "Epoch 29/50\n",
      "450/450 [==============================] - 20s 45ms/step - loss: 0.0110 - categorical_accuracy: 0.9965 - val_loss: 0.0722 - val_categorical_accuracy: 0.9826\n",
      "Epoch 30/50\n",
      "450/450 [==============================] - 20s 45ms/step - loss: 0.0100 - categorical_accuracy: 0.9969 - val_loss: 0.0748 - val_categorical_accuracy: 0.9824\n",
      "Epoch 31/50\n",
      "450/450 [==============================] - 20s 46ms/step - loss: 0.0109 - categorical_accuracy: 0.9963 - val_loss: 0.0654 - val_categorical_accuracy: 0.9822\n",
      "Epoch 32/50\n",
      "450/450 [==============================] - 22s 49ms/step - loss: 0.0099 - categorical_accuracy: 0.9970 - val_loss: 0.0808 - val_categorical_accuracy: 0.9800\n",
      "Epoch 33/50\n",
      "450/450 [==============================] - 21s 46ms/step - loss: 0.0112 - categorical_accuracy: 0.9963 - val_loss: 0.0704 - val_categorical_accuracy: 0.9816\n",
      "Epoch 34/50\n",
      "450/450 [==============================] - 20s 45ms/step - loss: 0.0086 - categorical_accuracy: 0.9974 - val_loss: 0.0804 - val_categorical_accuracy: 0.9796\n",
      "Epoch 35/50\n",
      "450/450 [==============================] - 21s 46ms/step - loss: 0.0089 - categorical_accuracy: 0.9972 - val_loss: 0.0768 - val_categorical_accuracy: 0.9822\n",
      "Epoch 36/50\n",
      "450/450 [==============================] - 20s 45ms/step - loss: 0.0094 - categorical_accuracy: 0.9966 - val_loss: 0.0821 - val_categorical_accuracy: 0.9812\n",
      "Epoch 37/50\n",
      "450/450 [==============================] - 21s 46ms/step - loss: 0.0095 - categorical_accuracy: 0.9967 - val_loss: 0.0797 - val_categorical_accuracy: 0.9814\n",
      "Epoch 38/50\n",
      "450/450 [==============================] - 21s 46ms/step - loss: 0.0096 - categorical_accuracy: 0.9970 - val_loss: 0.0836 - val_categorical_accuracy: 0.9802\n",
      "Epoch 39/50\n",
      "450/450 [==============================] - 22s 49ms/step - loss: 0.0086 - categorical_accuracy: 0.9971 - val_loss: 0.0878 - val_categorical_accuracy: 0.9812\n",
      "Epoch 40/50\n",
      "450/450 [==============================] - 20s 46ms/step - loss: 0.0079 - categorical_accuracy: 0.9974 - val_loss: 0.0869 - val_categorical_accuracy: 0.9818\n",
      "Epoch 41/50\n",
      "450/450 [==============================] - 21s 46ms/step - loss: 0.0075 - categorical_accuracy: 0.9976 - val_loss: 0.0979 - val_categorical_accuracy: 0.9802\n",
      "Epoch 42/50\n",
      "450/450 [==============================] - 20s 45ms/step - loss: 0.0071 - categorical_accuracy: 0.9979 - val_loss: 0.0808 - val_categorical_accuracy: 0.9808\n",
      "Epoch 43/50\n",
      "450/450 [==============================] - 20s 45ms/step - loss: 0.0073 - categorical_accuracy: 0.9977 - val_loss: 0.0863 - val_categorical_accuracy: 0.9820\n",
      "Epoch 44/50\n",
      "450/450 [==============================] - 20s 44ms/step - loss: 0.0078 - categorical_accuracy: 0.9974 - val_loss: 0.0860 - val_categorical_accuracy: 0.9804\n",
      "Epoch 45/50\n",
      "450/450 [==============================] - 21s 46ms/step - loss: 0.0074 - categorical_accuracy: 0.9976 - val_loss: 0.0859 - val_categorical_accuracy: 0.9812\n",
      "Epoch 46/50\n",
      "450/450 [==============================] - 20s 44ms/step - loss: 0.0072 - categorical_accuracy: 0.9974 - val_loss: 0.0833 - val_categorical_accuracy: 0.9814\n",
      "Epoch 47/50\n",
      "450/450 [==============================] - 20s 45ms/step - loss: 0.0071 - categorical_accuracy: 0.9979 - val_loss: 0.0829 - val_categorical_accuracy: 0.9820\n",
      "Epoch 48/50\n",
      "450/450 [==============================] - 21s 46ms/step - loss: 0.0065 - categorical_accuracy: 0.9979 - val_loss: 0.0856 - val_categorical_accuracy: 0.9820\n",
      "Epoch 49/50\n"
     ]
    },
    {
     "name": "stdout",
     "output_type": "stream",
     "text": [
      "450/450 [==============================] - 20s 45ms/step - loss: 0.0065 - categorical_accuracy: 0.9980 - val_loss: 0.0897 - val_categorical_accuracy: 0.9812\n",
      "Epoch 50/50\n",
      "450/450 [==============================] - 22s 49ms/step - loss: 0.0058 - categorical_accuracy: 0.9983 - val_loss: 0.0954 - val_categorical_accuracy: 0.9796\n"
     ]
    }
   ],
   "source": [
    "history=net.fit(training_inputs,training_results,batch_size=100,epochs=50,validation_split=0.1)"
   ]
  },
  {
   "cell_type": "code",
   "execution_count": 268,
   "metadata": {},
   "outputs": [
    {
     "data": {
      "image/png": "[encoded data removed]",
      "text/plain": [
       "<Figure size 432x288 with 1 Axes>"
      ]
     },
     "metadata": {},
     "output_type": "display_data"
    }
   ],
   "source": [
    "fig=plt.figure()\n",
    "plt.plot(history.history['categorical_accuracy'], linewidth=3, ls=\"--\")\n",
    "plt.plot(history.history['val_categorical_accuracy'], linewidth=3)\n",
    "plt.show()"
   ]
  },
  {
   "cell_type": "code",
   "execution_count": 270,
   "metadata": {},
   "outputs": [
    {
     "data": {
      "image/png": "[encoded data removed]",
      "text/plain": [
       "<Figure size 432x288 with 1 Axes>"
      ]
     },
     "metadata": {},
     "output_type": "display_data"
    }
   ],
   "source": [
    "fig=plt.figure()\n",
    "plt.plot(history.history['loss'], linewidth=3)\n",
    "plt.plot(history.history['val_loss'], linewidth=3)\n",
    "plt.show()"
   ]
  },
  {
   "cell_type": "code",
   "execution_count": 286,
   "metadata": {
    "collapsed": true
   },
   "outputs": [],
   "source": [
    "def rescale_image(img):\n",
    "    mn=img.min()\n",
    "    mx=img.max()\n",
    "    return((img-mn)/(mx-mn+1e-10))\n",
    "\n",
    "\n",
    "def display_filters(which_layer):\n",
    "    global BigImage\n",
    "    \n",
    "    the_layers=net.layers\n",
    "    filters=the_layers[which_layer].get_weights()[0]\n",
    "    s=shape(filters)\n",
    "    MX=s[0]\n",
    "    MY=s[1]\n",
    "    num_in=s[2] # number of input channels\n",
    "    num_out=s[3] # number of output channels\n",
    "    BigImage=zeros([num_in*(MX+1),num_out*(MY+1)])\n",
    "    BigImage[:,:]=1.0\n",
    "    for j_in in range(num_in):\n",
    "        for j_out in range(num_out):\n",
    "            BigImage[j_in*(MX+1):(j_in+1)*(MX+1)-1,j_out*(MY+1):(j_out+1)*(MY+1)-1]=rescale_image(filters[:,:,j_in,j_out])\n",
    "    plt.imshow(BigImage,origin='lower',interpolation='nearest',cmap='binary')\n",
    "    plt.axis('off')\n",
    "    plt.show()"
   ]
  },
  {
   "cell_type": "code",
   "execution_count": 285,
   "metadata": {},
   "outputs": [
    {
     "ename": "IndexError",
     "evalue": "tuple index out of range",
     "output_type": "error",
     "traceback": [
      "\u001b[0;31m---------------------------------------------------------------------------\u001b[0m",
      "\u001b[0;31mIndexError\u001b[0m                                Traceback (most recent call last)",
      "\u001b[0;32m<ipython-input-285-39ab0dca7046>\u001b[0m in \u001b[0;36m<module>\u001b[0;34m()\u001b[0m\n\u001b[0;32m----> 1\u001b[0;31m \u001b[0mdisplay_filters\u001b[0m\u001b[0;34m(\u001b[0m\u001b[0;36m3\u001b[0m\u001b[0;34m)\u001b[0m\u001b[0;34m\u001b[0m\u001b[0;34m\u001b[0m\u001b[0m\n\u001b[0m",
      "\u001b[0;32m<ipython-input-284-882dbbe2c146>\u001b[0m in \u001b[0;36mdisplay_filters\u001b[0;34m(which_layer)\u001b[0m\n\u001b[1;32m     12\u001b[0m     \u001b[0ms\u001b[0m\u001b[0;34m=\u001b[0m\u001b[0mshape\u001b[0m\u001b[0;34m(\u001b[0m\u001b[0mfilters\u001b[0m\u001b[0;34m)\u001b[0m\u001b[0;34m\u001b[0m\u001b[0;34m\u001b[0m\u001b[0m\n\u001b[1;32m     13\u001b[0m     \u001b[0mMX\u001b[0m\u001b[0;34m=\u001b[0m\u001b[0ms\u001b[0m\u001b[0;34m[\u001b[0m\u001b[0;36m0\u001b[0m\u001b[0;34m]\u001b[0m\u001b[0;34m\u001b[0m\u001b[0;34m\u001b[0m\u001b[0m\n\u001b[0;32m---> 14\u001b[0;31m     \u001b[0mMY\u001b[0m\u001b[0;34m=\u001b[0m\u001b[0ms\u001b[0m\u001b[0;34m[\u001b[0m\u001b[0;36m1\u001b[0m\u001b[0;34m]\u001b[0m\u001b[0;34m\u001b[0m\u001b[0;34m\u001b[0m\u001b[0m\n\u001b[0m\u001b[1;32m     15\u001b[0m     \u001b[0mnum_in\u001b[0m\u001b[0;34m=\u001b[0m\u001b[0ms\u001b[0m\u001b[0;34m[\u001b[0m\u001b[0;36m2\u001b[0m\u001b[0;34m]\u001b[0m \u001b[0;31m# number of input channels\u001b[0m\u001b[0;34m\u001b[0m\u001b[0;34m\u001b[0m\u001b[0m\n\u001b[1;32m     16\u001b[0m     \u001b[0mnum_out\u001b[0m\u001b[0;34m=\u001b[0m\u001b[0ms\u001b[0m\u001b[0;34m[\u001b[0m\u001b[0;36m3\u001b[0m\u001b[0;34m]\u001b[0m \u001b[0;31m# number of output channels\u001b[0m\u001b[0;34m\u001b[0m\u001b[0;34m\u001b[0m\u001b[0m\n",
      "\u001b[0;31mIndexError\u001b[0m: tuple index out of range"
     ]
    }
   ],
   "source": [
    "display_filters(3)"
   ]
  },
  {
   "cell_type": "code",
   "execution_count": 294,
   "metadata": {},
   "outputs": [],
   "source": [
    "the_layers=net.layers\n",
    "filters=the_layers[0].get_weights()"
   ]
  },
  {
   "cell_type": "code",
   "execution_count": 295,
   "metadata": {},
   "outputs": [
    {
     "data": {
      "text/plain": [
       "[array([[[[-1.00402844e+00,  2.85153478e-01, -7.19250083e-01,\n",
       "           -2.45902970e-01, -6.09752797e-02, -2.18827233e-01,\n",
       "            4.60349083e-01,  2.30639249e-01]],\n",
       " \n",
       "         [[-7.19317913e-01,  3.82770360e-01, -1.26479018e+00,\n",
       "           -1.73074856e-01,  4.25239265e-01, -4.33503240e-02,\n",
       "            5.73794067e-01,  6.77168608e-01]],\n",
       " \n",
       "         [[-1.64438516e-01,  3.42483044e-01, -1.55182099e+00,\n",
       "            8.77184942e-02,  4.37865883e-01,  1.73041895e-01,\n",
       "            5.45959234e-01,  6.30210578e-01]],\n",
       " \n",
       "         [[-1.43779412e-01,  2.23399490e-01, -1.13460302e+00,\n",
       "            1.93459153e-01,  1.05618358e-01,  5.64141385e-02,\n",
       "            2.12964177e-01,  6.05356038e-01]],\n",
       " \n",
       "         [[ 2.17328623e-01, -1.05383605e-01, -1.95224047e-01,\n",
       "            9.71119478e-02, -3.69190395e-01, -1.64251521e-01,\n",
       "           -1.80127248e-01,  5.30984521e-01]]],\n",
       " \n",
       " \n",
       "        [[[-2.25181714e-01,  9.62703705e-01,  3.74964356e-01,\n",
       "           -1.37147866e-02,  1.25382543e-01, -3.22924107e-01,\n",
       "            8.63523364e-01, -6.39289245e-02]],\n",
       " \n",
       "         [[-2.65809178e-01,  1.05869937e+00, -7.56934956e-02,\n",
       "           -1.00957505e-01,  5.50308049e-01,  1.22400023e-01,\n",
       "            5.47052026e-01,  6.28511369e-01]],\n",
       " \n",
       "         [[-1.01457328e-01,  7.14636147e-01, -8.15376759e-01,\n",
       "            3.31986189e-01,  7.51712739e-01,  1.75674483e-01,\n",
       "            6.36764646e-01,  1.09694767e+00]],\n",
       " \n",
       "         [[-1.83935553e-01,  5.74797332e-01, -8.16279948e-01,\n",
       "            2.72335351e-01, -1.52215809e-02,  2.86494136e-01,\n",
       "            5.08905113e-01,  7.17295468e-01]],\n",
       " \n",
       "         [[-1.27981737e-01,  3.43170017e-02, -2.07621709e-01,\n",
       "           -3.94864157e-02, -8.54282856e-01, -6.77718893e-02,\n",
       "            4.87759590e-01,  5.77528179e-01]]],\n",
       " \n",
       " \n",
       "        [[[ 2.20744580e-01,  1.17511916e+00,  6.47148848e-01,\n",
       "           -4.28017378e-01,  2.79135406e-01, -4.16888207e-01,\n",
       "            6.37150049e-01, -7.24934518e-01]],\n",
       " \n",
       "         [[ 5.18633723e-01,  7.22015798e-01,  7.93609560e-01,\n",
       "           -7.84515068e-02,  8.05894017e-01,  3.00910085e-01,\n",
       "            1.61495358e-01, -5.24349630e-01]],\n",
       " \n",
       "         [[ 4.00040299e-01,  5.53491712e-01,  4.65691209e-01,\n",
       "            9.81721342e-01,  6.23477757e-01,  3.37576926e-01,\n",
       "            1.82399392e-01,  5.25704622e-01]],\n",
       " \n",
       "         [[-1.10819302e-02,  4.44704235e-01,  2.65582621e-01,\n",
       "            7.75534034e-01, -2.29648024e-01,  3.25076997e-01,\n",
       "            5.15883148e-01,  7.25974202e-01]],\n",
       " \n",
       "         [[-2.54260868e-01,  2.78224468e-01,  6.05655432e-01,\n",
       "            5.51023066e-01, -9.44967985e-01, -4.14523259e-02,\n",
       "            6.09769106e-01,  1.31072372e-01]]],\n",
       " \n",
       " \n",
       "        [[[ 1.61690712e-01,  3.72131705e-01,  4.44679588e-01,\n",
       "           -1.12550974e+00,  5.43623805e-01,  4.50357050e-02,\n",
       "           -3.89814973e-01, -3.88156146e-01]],\n",
       " \n",
       "         [[ 5.44473231e-01, -3.72063160e-01,  5.07945418e-01,\n",
       "           -8.17355454e-01,  5.62749386e-01,  1.04683794e-01,\n",
       "           -1.06853712e+00, -9.71499741e-01]],\n",
       " \n",
       "         [[ 7.57608831e-01, -7.58430243e-01,  1.03244460e+00,\n",
       "            6.35981560e-01,  5.99576056e-01,  2.75635660e-01,\n",
       "           -1.07940662e+00, -2.80559540e-01]],\n",
       " \n",
       "         [[ 6.16841674e-01, -4.65167433e-01,  9.82112169e-01,\n",
       "            1.04357183e+00, -2.36830071e-01,  1.40258282e-01,\n",
       "           -5.79822540e-01,  4.14742492e-02]],\n",
       " \n",
       "         [[ 5.56646213e-02, -3.46090794e-01,  7.90665150e-01,\n",
       "            8.34381521e-01, -1.01433468e+00, -6.79643601e-02,\n",
       "           -2.17616275e-01, -6.92313984e-02]]],\n",
       " \n",
       " \n",
       "        [[[-1.68803573e-01, -5.17045781e-02,  2.00094715e-01,\n",
       "           -8.40644002e-01,  3.79999787e-01,  7.66650066e-02,\n",
       "           -7.99527615e-02,  4.63704526e-01]],\n",
       " \n",
       "         [[-1.60935491e-01, -9.87085581e-01,  3.70886266e-01,\n",
       "           -1.48839021e+00,  2.58511364e-01, -7.53733441e-02,\n",
       "           -1.10095918e+00, -4.72873241e-01]],\n",
       " \n",
       "         [[ 1.62509546e-01, -1.25686884e+00,  4.57338721e-01,\n",
       "           -3.75142127e-01,  5.23058884e-02, -2.70173363e-02,\n",
       "           -9.06033337e-01, -5.78404188e-01]],\n",
       " \n",
       "         [[ 2.98419654e-01, -1.02282667e+00,  4.83652443e-01,\n",
       "            3.02488446e-01,  5.24330288e-02, -1.28792075e-03,\n",
       "           -7.39292860e-01, -9.73579884e-02]],\n",
       " \n",
       "         [[ 1.94667220e-01, -9.73511279e-01,  4.57477540e-01,\n",
       "            6.12487078e-01, -5.96294999e-01, -5.79121374e-02,\n",
       "           -8.09720755e-01,  5.66994548e-02]]]], dtype=float32),\n",
       " array([ 0.2863743 ,  0.00565829, -0.00498946,  0.04956391, -0.03073719,\n",
       "        -0.04640577,  0.09083095,  0.15096606], dtype=float32)]"
      ]
     },
     "execution_count": 295,
     "metadata": {},
     "output_type": "execute_result"
    }
   ],
   "source": [
    "filters"
   ]
  },
  {
   "cell_type": "code",
   "execution_count": null,
   "metadata": {
    "collapsed": true
   },
   "outputs": [],
   "source": []
  }
 ],
 "metadata": {
  "kernelspec": {
   "display_name": "Python 3",
   "language": "python",
   "name": "python3"
  },
  "language_info": {
   "codemirror_mode": {
    "name": "ipython",
    "version": 3
   },
   "file_extension": ".py",
   "mimetype": "text/x-python",
   "name": "python",
   "nbconvert_exporter": "python",
   "pygments_lexer": "ipython3",
   "version": "3.6.7"
  }
 },
 "nbformat": 4,
 "nbformat_minor": 2
}
